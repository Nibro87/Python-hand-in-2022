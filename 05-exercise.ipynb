{
 "cells": [
  {
   "cell_type": "code",
   "execution_count": 188,
   "metadata": {},
   "outputs": [
    {
     "name": "stdout",
     "output_type": "stream",
     "text": [
      "        OMRÅDE    KØN  ALDER CIVILSTAND     TID  INDHOLD\n",
      "0  Hele landet  I alt  I alt   Fraskilt  2008K4   432156\n",
      "1  Hele landet  I alt  I alt   Fraskilt  2020K4   552419\n",
      "0          NaN\n",
      "1    27.828608\n",
      "Name: INDHOLD, dtype: float64\n"
     ]
    }
   ],
   "source": [
    "import pandas as pd\n",
    "import numpy as np\n",
    "\n",
    "\n",
    "\n",
    "\n",
    "#5 A\n",
    "df = pd.read_csv('https://api.statbank.dk/v1/data/FOLK1A/CSV?delimiter=Semicolon&OMR%C3%85DE=000&K%C3%98N=TOT&ALDER=IALT&CIVILSTAND=F&Tid=2008K4%2C2020K4', sep=';')\n",
    "\n",
    "\n",
    "\n",
    "df_pct= df['INDHOLD'].pct_change().mul(100)\n",
    "\n",
    "print(df)\n",
    "\n",
    "print(df_pct)\n",
    "\n",
    "\n",
    "\n",
    "\n"
   ]
  },
  {
   "cell_type": "code",
   "execution_count": 189,
   "metadata": {},
   "outputs": [
    {
     "name": "stderr",
     "output_type": "stream",
     "text": [
      "/opt/conda/lib/python3.7/site-packages/ipykernel_launcher.py:16: UserWarning: Boolean Series key will be reindexed to match DataFrame index.\n",
      "  app.launch_new_instance()\n"
     ]
    },
    {
     "data": {
      "text/html": [
       "<div>\n",
       "<style scoped>\n",
       "    .dataframe tbody tr th:only-of-type {\n",
       "        vertical-align: middle;\n",
       "    }\n",
       "\n",
       "    .dataframe tbody tr th {\n",
       "        vertical-align: top;\n",
       "    }\n",
       "\n",
       "    .dataframe thead th {\n",
       "        text-align: right;\n",
       "    }\n",
       "</style>\n",
       "<table border=\"1\" class=\"dataframe\">\n",
       "  <thead>\n",
       "    <tr style=\"text-align: right;\">\n",
       "      <th></th>\n",
       "      <th>OMRÅDE</th>\n",
       "      <th>KØN</th>\n",
       "      <th>ALDER</th>\n",
       "      <th>CIVILSTAND</th>\n",
       "      <th>TID</th>\n",
       "      <th>INDHOLD</th>\n",
       "      <th>percentage</th>\n",
       "    </tr>\n",
       "  </thead>\n",
       "  <tbody>\n",
       "    <tr>\n",
       "      <th>2</th>\n",
       "      <td>København</td>\n",
       "      <td>I alt</td>\n",
       "      <td>I alt</td>\n",
       "      <td>Ugift</td>\n",
       "      <td>2020K4</td>\n",
       "      <td>417782</td>\n",
       "      <td>14.612279</td>\n",
       "    </tr>\n",
       "    <tr>\n",
       "      <th>58</th>\n",
       "      <td>Odense</td>\n",
       "      <td>I alt</td>\n",
       "      <td>I alt</td>\n",
       "      <td>Ugift</td>\n",
       "      <td>2020K4</td>\n",
       "      <td>113639</td>\n",
       "      <td>3.974620</td>\n",
       "    </tr>\n",
       "    <tr>\n",
       "      <th>62</th>\n",
       "      <td>Esbjerg</td>\n",
       "      <td>I alt</td>\n",
       "      <td>I alt</td>\n",
       "      <td>Ugift</td>\n",
       "      <td>2020K4</td>\n",
       "      <td>55161</td>\n",
       "      <td>1.929303</td>\n",
       "    </tr>\n",
       "    <tr>\n",
       "      <th>84</th>\n",
       "      <td>Aarhus</td>\n",
       "      <td>I alt</td>\n",
       "      <td>I alt</td>\n",
       "      <td>Ugift</td>\n",
       "      <td>2020K4</td>\n",
       "      <td>211863</td>\n",
       "      <td>7.410088</td>\n",
       "    </tr>\n",
       "    <tr>\n",
       "      <th>104</th>\n",
       "      <td>Aalborg</td>\n",
       "      <td>I alt</td>\n",
       "      <td>I alt</td>\n",
       "      <td>Ugift</td>\n",
       "      <td>2020K4</td>\n",
       "      <td>120226</td>\n",
       "      <td>4.205006</td>\n",
       "    </tr>\n",
       "  </tbody>\n",
       "</table>\n",
       "</div>"
      ],
      "text/plain": [
       "        OMRÅDE    KØN  ALDER CIVILSTAND     TID  INDHOLD  percentage\n",
       "2    København  I alt  I alt      Ugift  2020K4   417782   14.612279\n",
       "58      Odense  I alt  I alt      Ugift  2020K4   113639    3.974620\n",
       "62     Esbjerg  I alt  I alt      Ugift  2020K4    55161    1.929303\n",
       "84      Aarhus  I alt  I alt      Ugift  2020K4   211863    7.410088\n",
       "104    Aalborg  I alt  I alt      Ugift  2020K4   120226    4.205006"
      ]
     },
     "execution_count": 189,
     "metadata": {},
     "output_type": "execute_result"
    }
   ],
   "source": [
    "#5 B \n",
    "\n",
    "df = pd.read_csv('https://api.statbank.dk/v1/data/FOLK1A/CSV?delimiter=Semicolon&OMR%C3%85DE=*&K%C3%98N=TOT&ALDER=IALT&CIVILSTAND=U&Tid=2020K4', sep=';')\n",
    "\n",
    "searchfor = ['Region', 'Hele landet']\n",
    "\n",
    "totals = df[df[\"OMRÅDE\"].str.contains('|'.join(searchfor)) == False]\n",
    "\n",
    "totals['percentage'] = totals['INDHOLD']/totals['INDHOLD'].sum()*100\n",
    "\n",
    "\n",
    "\n",
    "\n",
    "biggest_cities = [\"København\", \"Odense\", \"Aarhus\", \"Aalborg\", \"Esbjerg\"]\n",
    "\n",
    "t = totals[df['OMRÅDE'].isin(biggest_cities)].copy(deep=False)\n",
    "\n",
    "\n",
    "\n",
    "t\n",
    "\n",
    "\n"
   ]
  },
  {
   "cell_type": "code",
   "execution_count": null,
   "metadata": {},
   "outputs": [],
   "source": [
    "#5 c "
   ]
  },
  {
   "cell_type": "code",
   "execution_count": 57,
   "metadata": {},
   "outputs": [
    {
     "ename": "TypeError",
     "evalue": "can only concatenate str (not \"int\") to str",
     "output_type": "error",
     "traceback": [
      "\u001b[0;31m---------------------------------------------------------------------------\u001b[0m",
      "\u001b[0;31mTypeError\u001b[0m                                 Traceback (most recent call last)",
      "\u001b[0;32m<ipython-input-57-330fe6d0d843>\u001b[0m in \u001b[0;36m<module>\u001b[0;34m\u001b[0m\n\u001b[1;32m     13\u001b[0m \u001b[0;34m\u001b[0m\u001b[0m\n\u001b[1;32m     14\u001b[0m \u001b[0;31m#df\u001b[0m\u001b[0;34m\u001b[0m\u001b[0;34m\u001b[0m\u001b[0;34m\u001b[0m\u001b[0m\n\u001b[0;32m---> 15\u001b[0;31m \u001b[0mplt\u001b[0m\u001b[0;34m.\u001b[0m\u001b[0maxis\u001b[0m\u001b[0;34m(\u001b[0m\u001b[0;34m[\u001b[0m\u001b[0;36m0\u001b[0m\u001b[0;34m,\u001b[0m \u001b[0mmax\u001b[0m\u001b[0;34m(\u001b[0m\u001b[0mages\u001b[0m\u001b[0;34m)\u001b[0m \u001b[0;34m+\u001b[0m \u001b[0;36m10\u001b[0m\u001b[0;34m,\u001b[0m \u001b[0;36m0\u001b[0m\u001b[0;34m,\u001b[0m \u001b[0mmax_y_val\u001b[0m\u001b[0;34m+\u001b[0m\u001b[0;36m500\u001b[0m\u001b[0;34m]\u001b[0m\u001b[0;34m)\u001b[0m\u001b[0;34m\u001b[0m\u001b[0;34m\u001b[0m\u001b[0m\n\u001b[0m\u001b[1;32m     16\u001b[0m \u001b[0mplt\u001b[0m\u001b[0;34m.\u001b[0m\u001b[0mtitle\u001b[0m\u001b[0;34m(\u001b[0m\u001b[0;34m\"\"\u001b[0m\u001b[0;34m,\u001b[0m \u001b[0mfontsize\u001b[0m\u001b[0;34m=\u001b[0m\u001b[0;36m12\u001b[0m\u001b[0;34m)\u001b[0m\u001b[0;34m\u001b[0m\u001b[0;34m\u001b[0m\u001b[0m\n\u001b[1;32m     17\u001b[0m \u001b[0mplt\u001b[0m\u001b[0;34m.\u001b[0m\u001b[0mxlabel\u001b[0m\u001b[0;34m(\u001b[0m\u001b[0;34m\"Ages\"\u001b[0m\u001b[0;34m,\u001b[0m \u001b[0mfontsize\u001b[0m\u001b[0;34m=\u001b[0m\u001b[0;36m10\u001b[0m\u001b[0;34m)\u001b[0m\u001b[0;34m\u001b[0m\u001b[0;34m\u001b[0m\u001b[0m\n",
      "\u001b[0;31mTypeError\u001b[0m: can only concatenate str (not \"int\") to str"
     ]
    }
   ],
   "source": [
    "#5 D \n",
    "import pandas as pd\n",
    "%matplotlib notebook\n",
    "import matplotlib.pyplot as plt\n",
    "\n",
    "df = pd.read_csv('https://api.statbank.dk/v1/data/FOLK1A/CSV?delimiter=Semicolon&OMR%C3%85DE=000&K%C3%98N=TOT&ALDER=*&CIVILSTAND=U%2CG&Tid=2020K4', sep=';')\n",
    "\n",
    "ages = pd.DataFrame(df[\"ALDER\"])\n",
    "status = pd.DataFrame(df[\"CIVILSTAND\"])\n",
    "\n",
    "status\n",
    "#df = pd.concat([ages,status],axis=1)\n",
    "\n",
    "#df\n",
    "\n",
    "plt.title(\"\", fontsize=12)\n",
    "plt.xlabel(\"Ages\", fontsize=10)\n",
    "plt.ylabel(\"Amount\", fontsize=10)\n",
    "plt.tick_params(axis='both', which='major', labelsize=10)\n"
   ]
  },
  {
   "cell_type": "code",
   "execution_count": null,
   "metadata": {},
   "outputs": [],
   "source": []
  },
  {
   "cell_type": "code",
   "execution_count": null,
   "metadata": {},
   "outputs": [],
   "source": []
  }
 ],
 "metadata": {
  "kernelspec": {
   "display_name": "Python 3",
   "language": "python",
   "name": "python3"
  },
  "language_info": {
   "codemirror_mode": {
    "name": "ipython",
    "version": 3
   },
   "file_extension": ".py",
   "mimetype": "text/x-python",
   "name": "python",
   "nbconvert_exporter": "python",
   "pygments_lexer": "ipython3",
   "version": "3.7.6"
  }
 },
 "nbformat": 4,
 "nbformat_minor": 4
}

{
 "cells": [
  {
   "cell_type": "code",
   "execution_count": 209,
   "metadata": {
    "scrolled": true
   },
   "outputs": [],
   "source": [
    "#Webscrape mobiltelefonernes navne og priser fra Komplett.dk\n",
    "#https://www.komplett.dk/category/21064/mobil/mobiltelefoner\n",
    "import requests\n",
    "import bs4\n",
    "import re\n",
    "import csv  \n",
    "\n",
    "# 1\n",
    "url = \"https://www.komplett.dk/category/21064/mobil/mobiltelefoner?nlevel=10444%C2%A721064&hits=1000\"\n",
    "\n",
    "headers = requests.utils.default_headers()\n",
    "\n",
    "headers.update(\n",
    "    {\n",
    "        'User-Agent': 'My User Agent 1.0',\n",
    "    }\n",
    ")\n",
    "\n",
    "res = requests.get(url, headers=headers)\n",
    "\n",
    "res.raise_for_status()\n",
    "\n",
    "soup = bs4.BeautifulSoup(res.text, 'html.parser')\n",
    "\n",
    "all_products = soup.select('div[class=text-content] > h2')\n",
    "\n",
    "\n",
    "all_prices = soup.select('span.product-price-now')\n",
    "\n",
    "\n",
    "products_komplett = []\n",
    "\n",
    "for product, price in zip(all_products, all_prices):\n",
    "    products_komplett.append((product.text, int(re.sub('[.,-]', '', price.text))))\n",
    "\n",
    "\n",
    " \n",
    "    \n",
    "header = ['name', 'price']\n",
    "with open(\"komplett.csv\", \"w\", newline='') as file:\n",
    "    writer = csv.writer(file, delimiter=',')\n",
    "    writer.writerow(i for i in header)\n",
    "    for j in products_komplett:\n",
    "        writer.writerow(j)\n"
   ]
  },
  {
   "cell_type": "code",
   "execution_count": 291,
   "metadata": {},
   "outputs": [
    {
     "data": {
      "image/png": "[encoded data removed]",
      "text/plain": [
       "<Figure size 540x252 with 1 Axes>"
      ]
     },
     "metadata": {
      "needs_background": "light"
     },
     "output_type": "display_data"
    }
   ],
   "source": [
    "import pandas as pd \n",
    "import csv\n",
    "import matplotlib.pyplot as plt\n",
    "#Plot gennemsnitpriserne på Samsung og Iphone i et bar-graf eller linjediagram\n",
    "\n",
    "\n",
    " \n",
    "df = pd.read_csv(\"komplett.csv\")\n",
    "\n",
    "\n",
    "\n",
    "\n",
    "Samsung = df[df['name'].str.contains(\"Samsung\")]\n",
    "Iphone = df[df['name'].str.contains(\"iPhone\")].mean()\n",
    "\n",
    "\n",
    "X = list(Samsung.iloc[:, 0])\n",
    "Y = list(Samsung.iloc[:, 1])\n",
    "\n",
    "\n",
    "t=8000\n",
    "# Plot the data using bar() method\n",
    "plt.bar(X, Y, color='g')\n",
    "plt.title(\"Samsung\")\n",
    "plt.xlabel(\"Name\")\n",
    "plt.ylabel(\"Price\")\n",
    "\n",
    "plt.axhline(t, color='red', ls='dotted')\n",
    "\n",
    "# Show the plot\n",
    "plt.show()\n",
    "\n",
    "\n"
   ]
  },
  {
   "cell_type": "code",
   "execution_count": 52,
   "metadata": {},
   "outputs": [],
   "source": [
    "#Webscrape mobiltelefonernes navne og priser fra Telia.dk\n",
    "#https://www.telia.dk/privat/webshop/mobiler/?page=4\n"
   ]
  },
  {
   "cell_type": "code",
   "execution_count": 20,
   "metadata": {},
   "outputs": [],
   "source": [
    "#Sammenlign mobilernes priser fra begge butikker og plot dem."
   ]
  },
  {
   "cell_type": "code",
   "execution_count": null,
   "metadata": {},
   "outputs": [],
   "source": []
  },
  {
   "cell_type": "code",
   "execution_count": null,
   "metadata": {},
   "outputs": [],
   "source": []
  }
 ],
 "metadata": {
  "kernelspec": {
   "display_name": "Python 3",
   "language": "python",
   "name": "python3"
  },
  "language_info": {
   "codemirror_mode": {
    "name": "ipython",
    "version": 3
   },
   "file_extension": ".py",
   "mimetype": "text/x-python",
   "name": "python",
   "nbconvert_exporter": "python",
   "pygments_lexer": "ipython3",
   "version": "3.7.6"
  }
 },
 "nbformat": 4,
 "nbformat_minor": 4
}
